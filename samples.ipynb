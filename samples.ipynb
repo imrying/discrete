{
 "cells": [
  {
   "cell_type": "code",
   "execution_count": 1,
   "metadata": {},
   "outputs": [],
   "source": [
    "from tools import *\n",
    "from sympy import *\n",
    "import numpy as np\n"
   ]
  },
  {
   "cell_type": "markdown",
   "metadata": {},
   "source": [
    "# Extended Euclidean Algorithm\n",
    "Thanks to Jesper TA for making this <3\n",
    "Prints a table with all values, as well as the linear combination. "
   ]
  },
  {
   "cell_type": "code",
   "execution_count": 2,
   "metadata": {},
   "outputs": [
    {
     "data": {
      "text/latex": [
       "$\\displaystyle 1$"
      ],
      "text/plain": [
       "1"
      ]
     },
     "execution_count": 2,
     "metadata": {},
     "output_type": "execute_result"
    }
   ],
   "source": [
    "gcd(189,232)"
   ]
  },
  {
   "cell_type": "markdown",
   "metadata": {},
   "source": [
    "# Least common multiple (LCM)"
   ]
  },
  {
   "cell_type": "code",
   "execution_count": 3,
   "metadata": {},
   "outputs": [
    {
     "data": {
      "text/latex": [
       "$\\displaystyle 43848$"
      ],
      "text/plain": [
       "43848"
      ]
     },
     "execution_count": 3,
     "metadata": {},
     "output_type": "execute_result"
    }
   ],
   "source": [
    "lcm(189,232)"
   ]
  },
  {
   "cell_type": "markdown",
   "metadata": {},
   "source": [
    "# System of congruences\n",
    "Thanks to Alexander for making this <3\n",
    "#vi ønsker at løse systemet: x ≡ 2 mod 6 og x ≡ 3 mod 7\n",
    "syssolver([[2,6],[3,7]])\n",
    "\n",
    "Works by:\n",
    "$$\n",
    "x \\equiv a_1 \\mod{n_1}\\\\\n",
    "x \\equiv a_2 \\mod{n_2}\\\\\n",
    "x \\equiv a_3 \\mod{n_3}\n",
    "$$\n",
    "Call the function like this: `congruences_system_solver([[a_1, n_1], [a_2, n_2], [a_3,n_3]])`\n",
    "First output returned is the smallest pos int solution to the system of congruences.\n",
    "\n",
    "\n",
    "Want to solve\n",
    "$$\n",
    "x \\equiv 2 \\mod{6}\\\\\n",
    "x \\equiv 3 \\mod{7}\n",
    "$$\n"
   ]
  },
  {
   "cell_type": "code",
   "execution_count": 4,
   "metadata": {},
   "outputs": [
    {
     "name": "stdout",
     "output_type": "stream",
     "text": [
      "all solutions are 38 + 42k\n"
     ]
    },
    {
     "data": {
      "text/plain": [
       "(38, 42, [7, 6], [1, -1])"
      ]
     },
     "execution_count": 4,
     "metadata": {},
     "output_type": "execute_result"
    }
   ],
   "source": [
    "congruences_system_solver([[2,6],[3,7]])"
   ]
  },
  {
   "cell_type": "markdown",
   "metadata": {},
   "source": [
    "So the answer we get is `(38, 42, [7, 6], [1, -1])` where $38$ is the smallest non-negative integer solution to the system of congruences. $42$ is the least common multiple of the moduli if the moduli are pairwise coprime.\n",
    "This means the full solution can be written as $\\{38 + 42k \\mid k \\in \\mathbb{Z}\\}$"
   ]
  },
  {
   "cell_type": "code",
   "execution_count": 5,
   "metadata": {},
   "outputs": [
    {
     "name": "stdout",
     "output_type": "stream",
     "text": [
      "all solutions are 68 + 105k\n"
     ]
    },
    {
     "data": {
      "text/plain": [
       "(68, 105, [35, 21, 15], [-1, 1, 1])"
      ]
     },
     "execution_count": 5,
     "metadata": {},
     "output_type": "execute_result"
    }
   ],
   "source": [
    "congruences_system_solver([[2,3],[3,5],[5,7]])"
   ]
  },
  {
   "cell_type": "markdown",
   "metadata": {},
   "source": [
    "So all solutions can be written as $\\{68+105k \\mid k \\in \\mathbb{Z} \\}$"
   ]
  },
  {
   "cell_type": "markdown",
   "metadata": {},
   "source": [
    "# Multiplicative inverse \n",
    "Input a value for $n$ and it will determine the multiplicative inverse of $n \\mod{6}$"
   ]
  },
  {
   "cell_type": "code",
   "execution_count": 6,
   "metadata": {},
   "outputs": [
    {
     "name": "stdout",
     "output_type": "stream",
     "text": [
      "Does not exist\n",
      "Does not exist\n",
      "5\n"
     ]
    }
   ],
   "source": [
    "print(multiplicative_inverse(0,6))\n",
    "print(multiplicative_inverse(2,6))\n",
    "print(multiplicative_inverse(5,6))"
   ]
  },
  {
   "cell_type": "markdown",
   "metadata": {},
   "source": [
    "# Check if is prime number\n"
   ]
  },
  {
   "cell_type": "code",
   "execution_count": 7,
   "metadata": {},
   "outputs": [
    {
     "data": {
      "text/plain": [
       "True"
      ]
     },
     "execution_count": 7,
     "metadata": {},
     "output_type": "execute_result"
    }
   ],
   "source": [
    "is_prime(2)"
   ]
  },
  {
   "cell_type": "markdown",
   "metadata": {},
   "source": [
    "# Get all primes below n"
   ]
  },
  {
   "cell_type": "code",
   "execution_count": 8,
   "metadata": {},
   "outputs": [
    {
     "data": {
      "text/plain": [
       "'Number of primes below 100 is 25 and the list is [2, 3, 5, 7, 11, 13, 17, 19, 23, 29, 31, 37, 41, 43, 47, 53, 59, 61, 67, 71, 73, 79, 83, 89, 97]'"
      ]
     },
     "execution_count": 8,
     "metadata": {},
     "output_type": "execute_result"
    }
   ],
   "source": [
    "primes_below(100)"
   ]
  },
  {
   "cell_type": "markdown",
   "metadata": {},
   "source": [
    "# Whole number division\n",
    "Divides a,b and returns the rest and factor."
   ]
  },
  {
   "cell_type": "code",
   "execution_count": 9,
   "metadata": {},
   "outputs": [
    {
     "data": {
      "text/plain": [
       "'The quotient of 11 divided by 20 is 0, and the remainder is 11.'"
      ]
     },
     "execution_count": 9,
     "metadata": {},
     "output_type": "execute_result"
    }
   ],
   "source": [
    "divide_with_remainder(11, 20)"
   ]
  },
  {
   "cell_type": "markdown",
   "metadata": {},
   "source": [
    "\n",
    "# Quantifier logic to human readable format WIP\n",
    "Maybe use this if you are completely lost on a quantifier statement. But remember it is not working 100% of the time. Either give your input as latex or as a raw string with the symbols.\n",
    "\n",
    "`explain_quantifiers(input_string)`\n"
   ]
  },
  {
   "cell_type": "code",
   "execution_count": 10,
   "metadata": {},
   "outputs": [
    {
     "data": {
      "text/plain": [
       "'For all x in the set of all real numbers There exists y in the set of all real numbers where x is less than y'"
      ]
     },
     "execution_count": 10,
     "metadata": {},
     "output_type": "execute_result"
    }
   ],
   "source": [
    "input_string = (\n",
    "    r\"\\forall x \\in \\mathbb{R} \\exists y \\in \\mathbb{R} (x < y)\"\n",
    ")\n",
    "explain_quantifiers(input_string)"
   ]
  },
  {
   "cell_type": "code",
   "execution_count": 11,
   "metadata": {},
   "outputs": [
    {
     "data": {
      "text/plain": [
       "'For allxinthe set of all real numbersFor allzinthe set of all real numbersThere existsyinthe set of all real numberswhere xis less thanyis less thanzorzis less thanyis less thanz'"
      ]
     },
     "execution_count": 11,
     "metadata": {},
     "output_type": "execute_result"
    }
   ],
   "source": [
    "input_string = \"∀x∈ℝ∀z∈ℝ∃y∈ℝ(x<y<z∨z<y<z)\"\n",
    "explain_quantifiers(input_string)"
   ]
  },
  {
   "cell_type": "markdown",
   "metadata": {},
   "source": [
    "# Permutations \n",
    "Permutations: Arrange all n objects from the set.\n",
    "\n",
    "Can also be used for bitstrings. Returns all the permutations. Then you can afterwards create a program, which can count the pattern you are looking for."
   ]
  },
  {
   "cell_type": "code",
   "execution_count": 12,
   "metadata": {},
   "outputs": [
    {
     "name": "stdout",
     "output_type": "stream",
     "text": [
      "['abcde', 'abced', 'abdce', 'abdec', 'abecd', 'abedc', 'acbde', 'acbed', 'acdbe', 'acdeb', 'acebd', 'acedb', 'adbce', 'adbec', 'adcbe', 'adceb', 'adebc', 'adecb', 'aebcd', 'aebdc', 'aecbd', 'aecdb', 'aedbc', 'aedcb', 'bacde', 'baced', 'badce', 'badec', 'baecd', 'baedc', 'bcade', 'bcaed', 'bcdae', 'bcdea', 'bcead', 'bceda', 'bdace', 'bdaec', 'bdcae', 'bdcea', 'bdeac', 'bdeca', 'beacd', 'beadc', 'becad', 'becda', 'bedac', 'bedca', 'cabde', 'cabed', 'cadbe', 'cadeb', 'caebd', 'caedb', 'cbade', 'cbaed', 'cbdae', 'cbdea', 'cbead', 'cbeda', 'cdabe', 'cdaeb', 'cdbae', 'cdbea', 'cdeab', 'cdeba', 'ceabd', 'ceadb', 'cebad', 'cebda', 'cedab', 'cedba', 'dabce', 'dabec', 'dacbe', 'daceb', 'daebc', 'daecb', 'dbace', 'dbaec', 'dbcae', 'dbcea', 'dbeac', 'dbeca', 'dcabe', 'dcaeb', 'dcbae', 'dcbea', 'dceab', 'dceba', 'deabc', 'deacb', 'debac', 'debca', 'decab', 'decba', 'eabcd', 'eabdc', 'eacbd', 'eacdb', 'eadbc', 'eadcb', 'ebacd', 'ebadc', 'ebcad', 'ebcda', 'ebdac', 'ebdca', 'ecabd', 'ecadb', 'ecbad', 'ecbda', 'ecdab', 'ecdba', 'edabc', 'edacb', 'edbac', 'edbca', 'edcab', 'edcba']\n",
      "114 do not contain abc\n",
      "42 contain ab or bc\n",
      "36 contain ab or bc but not abc\n"
     ]
    }
   ],
   "source": [
    "perms = get_permutations('abcde')\n",
    "print(perms)\n",
    "\n",
    "# task could be to figure out how many DO NOT contain abc\n",
    "count = 0\n",
    "pattern = 'abc'\n",
    "for perm in perms:\n",
    "    if pattern not in perm:\n",
    "        count +=1\n",
    "print(f'{count} do not contain {pattern}')\n",
    "\n",
    "# contain ab or ac\n",
    "count = 0\n",
    "pattern1 = 'ab'\n",
    "pattern2 = 'bc'\n",
    "for perm in perms:\n",
    "    if pattern1 in perm or pattern2 in perm:\n",
    "        count +=1\n",
    "print(f'{count} contain {pattern1} or {pattern2}')\n",
    "\n",
    "#How many contain ab or bc but not abc?\n",
    "pattern1 = 'ab'\n",
    "pattern2 = 'bc'\n",
    "pattern3 = 'abc'\n",
    "\n",
    "count = 0\n",
    "for perm in perms:\n",
    "    if pattern1 in perm or pattern2 in perm:\n",
    "        if pattern3 not in perm:\n",
    "            count +=1\n",
    "print(f'{count} contain ab or bc but not abc')"
   ]
  },
  {
   "cell_type": "markdown",
   "metadata": {},
   "source": [
    "# All bit strings of length n\n",
    "Return all bit strings of a specific length"
   ]
  },
  {
   "cell_type": "code",
   "execution_count": 13,
   "metadata": {},
   "outputs": [
    {
     "name": "stdout",
     "output_type": "stream",
     "text": [
      "[[0, 0, 0, 0, 0], [0, 0, 0, 0, 1], [0, 0, 0, 1, 0], [0, 0, 0, 1, 1], [0, 0, 1, 0, 0], [0, 0, 1, 0, 1], [0, 0, 1, 1, 0], [0, 0, 1, 1, 1], [0, 1, 0, 0, 0], [0, 1, 0, 0, 1], [0, 1, 0, 1, 0], [0, 1, 0, 1, 1], [0, 1, 1, 0, 0], [0, 1, 1, 0, 1], [0, 1, 1, 1, 0], [0, 1, 1, 1, 1], [1, 0, 0, 0, 0], [1, 0, 0, 0, 1], [1, 0, 0, 1, 0], [1, 0, 0, 1, 1], [1, 0, 1, 0, 0], [1, 0, 1, 0, 1], [1, 0, 1, 1, 0], [1, 0, 1, 1, 1], [1, 1, 0, 0, 0], [1, 1, 0, 0, 1], [1, 1, 0, 1, 0], [1, 1, 0, 1, 1], [1, 1, 1, 0, 0], [1, 1, 1, 0, 1], [1, 1, 1, 1, 0], [1, 1, 1, 1, 1]]\n",
      "['00000', '00001', '00010', '00011', '00100', '00101', '00110', '00111', '01000', '01001', '01010', '01011', '01100', '01101', '01110', '01111', '10000', '10001', '10010', '10011', '10100', '10101', '10110', '10111', '11000', '11001', '11010', '11011', '11100', '11101', '11110', '11111']\n",
      "number of bit strings of length 5 that end with \"11\" are 8\n",
      "number of bit strings of length 5 that starts with \"11\" are 8\n",
      "number of bit strings of length 5 that contains \"111\" are 8\n"
     ]
    }
   ],
   "source": [
    "bit_strings = get_binary_strings(5)\n",
    "bit_strings_string = get_binary_strings(5, as_strings=True)\n",
    "print(bit_strings)\n",
    "print(bit_strings_string)\n",
    "\n",
    "# how many of them end with 11\n",
    "count = 0\n",
    "for element in bit_strings_string:\n",
    "    if element.endswith('11'):\n",
    "        count+=1\n",
    "print(f'number of bit strings of length 5 that end with \"11\" are {count}')\n",
    "\n",
    "count = 0\n",
    "for element in bit_strings_string:\n",
    "    if element.startswith('11'):\n",
    "        count+=1\n",
    "print(f'number of bit strings of length 5 that starts with \"11\" are {count}')\n",
    "\n",
    "# contains 111\n",
    "count = 0\n",
    "for element in bit_strings_string:\n",
    "    if '111' in element:\n",
    "        count+=1\n",
    "print(f'number of bit strings of length 5 that contains \"111\" are {count}')"
   ]
  },
  {
   "cell_type": "markdown",
   "metadata": {},
   "source": [
    "# r-permutations\n",
    "r-permutations: Arrange only r objects, chosen from n."
   ]
  },
  {
   "cell_type": "code",
   "execution_count": 14,
   "metadata": {},
   "outputs": [
    {
     "name": "stdout",
     "output_type": "stream",
     "text": [
      "20\n"
     ]
    }
   ],
   "source": [
    "r_permutations = get_r_permutations(\"abcde\", 2)\n",
    "print(len(r_permutations))"
   ]
  },
  {
   "cell_type": "markdown",
   "metadata": {},
   "source": [
    "# Combinations\n",
    "Returns all possible combinations without ordering. So \"AB\" == \"BA\"."
   ]
  },
  {
   "cell_type": "code",
   "execution_count": 15,
   "metadata": {},
   "outputs": [
    {
     "name": "stdout",
     "output_type": "stream",
     "text": [
      "31\n"
     ]
    }
   ],
   "source": [
    "all_combinations = get_combinations(\"abcde\")\n",
    "print(len(all_combinations))"
   ]
  },
  {
   "cell_type": "markdown",
   "metadata": {},
   "source": [
    "# R-Combinations\n",
    "All combinations of size r."
   ]
  },
  {
   "cell_type": "code",
   "execution_count": 16,
   "metadata": {},
   "outputs": [
    {
     "name": "stdout",
     "output_type": "stream",
     "text": [
      "10\n"
     ]
    }
   ],
   "source": [
    "all_r_combinations = get_r_combinations(\"abcde\", 2)\n",
    "print(len(all_r_combinations))"
   ]
  },
  {
   "cell_type": "markdown",
   "metadata": {},
   "source": [
    "# Inclusion exclusion"
   ]
  },
  {
   "cell_type": "code",
   "execution_count": 17,
   "metadata": {},
   "outputs": [
    {
     "name": "stdout",
     "output_type": "stream",
     "text": [
      "1\n",
      "8\n"
     ]
    }
   ],
   "source": [
    "A = {1,2,3,4}\n",
    "B = {3,4,5,6}\n",
    "C = {1,3,8,9}\n",
    "\n",
    "# intersection\n",
    "intersection = A & B &C\n",
    "print(len(intersection))\n",
    "\n",
    "# union\n",
    "union = A | B | C\n",
    "print(len(union))\n",
    "\n"
   ]
  },
  {
   "cell_type": "markdown",
   "metadata": {},
   "source": [
    "# Guide to Finding Coefficients in Polynomial Expansions\n",
    "\n",
    "This guide explains how to compute the coefficient of a specific term in the expansion of a polynomial like \\((2x + 3y)^9\\) using Python and the SymPy library. Say we want to find the coefficient of $x^7y^2$.\n",
    "\n",
    "---\n",
    "\n",
    "## Step 1: Understand the Binomial Formula\n",
    "For a binomial expression \\((ax + by)^n\\), the coefficient of \\(x^k y^m\\) is given by:\n",
    "\n",
    "$$\n",
    "\\text{Coefficient} = \\binom{n}{k} \\cdot a^k \\cdot b^m\n",
    "$$\n",
    "\n",
    "where:\n",
    "- \\(n\\) is the power of the binomial.\n",
    "- \\(k\\) is the power of \\(x\\).\n",
    "- \\(m = n - k\\) is the power of \\(y\\).\n",
    "- \\(a\\) and \\(b\\) are the coefficients of \\(x\\) and \\(y\\), respectively.\n",
    "\n",
    "---\n",
    "\n",
    "## Step 2: Python Code\n",
    "\n",
    "Use the following Python code to calculate the coefficient:\n"
   ]
  },
  {
   "cell_type": "code",
   "execution_count": 18,
   "metadata": {},
   "outputs": [
    {
     "name": "stdout",
     "output_type": "stream",
     "text": [
      "The coefficient of x^7y^2 in (2x + 3y)^9 is: 41472\n"
     ]
    },
    {
     "data": {
      "text/plain": [
       "10077696"
      ]
     },
     "execution_count": 18,
     "metadata": {},
     "output_type": "execute_result"
    }
   ],
   "source": [
    "from sympy import symbols, binomial\n",
    "\n",
    "# (2x + 3y)^9 want to find the coefficient of x^7*y^2\n",
    "\n",
    "# Define variables\n",
    "x, y = symbols('x y')\n",
    "\n",
    "# Define parameters\n",
    "n = 9   # Power of the binomial\n",
    "k = 7   # Power of x\n",
    "m = 2   # Power of y\n",
    "a = 2   # Coefficient of x\n",
    "b = 3   # Coefficient of y\n",
    "\n",
    "# Calculate the coefficient\n",
    "coefficient = binomial(n, k) * (a**k) * (b**m)\n",
    "\n",
    "# Output the result\n",
    "print(f\"The coefficient of x^{k}y^{m} in (2x + 3y)^{n} is: {coefficient}\")\n",
    "2**9 * 3**9"
   ]
  },
  {
   "cell_type": "code",
   "execution_count": 19,
   "metadata": {},
   "outputs": [
    {
     "name": "stdout",
     "output_type": "stream",
     "text": [
      "The coefficient of x^5y^3 is: 60025000\n"
     ]
    }
   ],
   "source": [
    "from sympy import symbols, binomial\n",
    "\n",
    "# (5x + 7y)^8 want to find the coefficient of x^5*y^3\n",
    "\n",
    "# Define variables\n",
    "x, y = symbols('x y')\n",
    "\n",
    "# Define parameters\n",
    "n = 8   # Power of the binomial\n",
    "k = 5   # Power of x in x^5*y^3\n",
    "m = 3   # Power of y in x^5*y^3\n",
    "a = 5   # Coefficient of x in (5x + 7y)^8\n",
    "b = 7   # Coefficient of y in (5x + 7y)^8\n",
    "\n",
    "# Calculate the coefficient\n",
    "coefficient = binomial(n, k) * (a**k) * (b**m)\n",
    "\n",
    "# Output the result\n",
    "print(f\"The coefficient of x^{k}y^{m} is: {coefficient}\")\n"
   ]
  },
  {
   "cell_type": "code",
   "execution_count": 20,
   "metadata": {},
   "outputs": [
    {
     "name": "stdout",
     "output_type": "stream",
     "text": [
      "The coefficient of x^12y^13 is: 5200300\n"
     ]
    }
   ],
   "source": [
    "#What is the coeﬃcient of x^12y^13 in the expansion of (x +y)^25?\n",
    "\n",
    "#x^n * y^m in the expansion of (ax+by)^n\n",
    "\n",
    "n = 25\n",
    "k = 12\n",
    "m = 13\n",
    "a = 1\n",
    "b = 1\n",
    "\n",
    "coefficient = binomial(n, k) * (a**k) * (b**m)\n",
    "\n",
    "# Output the result\n",
    "print(f\"The coefficient of x^{k}y^{m} is: {coefficient}\")"
   ]
  },
  {
   "cell_type": "markdown",
   "metadata": {},
   "source": [
    "# Binomial stuff Figure out correct naming\n",
    "\n",
    "Lets say we want to figure out if the following is true:\n",
    "$$\n",
    "n \\cdot 2^{n-1} = \\sum_{k=1}^n \\binom{n}{k} \\cdot k\n",
    "$$"
   ]
  },
  {
   "cell_type": "code",
   "execution_count": 21,
   "metadata": {},
   "outputs": [
    {
     "data": {
      "text/latex": [
       "$\\displaystyle 2^{n - 1} n$"
      ],
      "text/plain": [
       "2**(n - 1)*n"
      ]
     },
     "execution_count": 21,
     "metadata": {},
     "output_type": "execute_result"
    }
   ],
   "source": [
    "from sympy import symbols, binomial, summation, Eq, simplify\n",
    "\n",
    "# Define the variables\n",
    "# positive true does such that n and k are assumed to be greater than 0.\n",
    "n, k = symbols('n k', integer=True, positive=True)\n",
    "\n",
    "\n",
    "# summation(expression, (variable, lower_limit, upper_limit)) computes the sum of the expression over the specified range.\n",
    "\n",
    "# Options\n",
    "option_1 = summation(binomial(n, k) * k, (k, 1, n))\n",
    "# option_2 = summation(binomial(n, k) * binomial(n, k+1), (k, 0, n-1))\n",
    "# option_3 = summation(2**k, (k, 1, n))\n",
    "# option_4 = summation(2**k, (k, 0, n-1))\n",
    "\n",
    "\n",
    "#option2 = summation(binomial(n,k)*binomial(n,k+1), (k,0,n-1))\n",
    "\n",
    "simplify(option_1)\n",
    "\n"
   ]
  },
  {
   "cell_type": "markdown",
   "metadata": {},
   "source": [
    "# Number of derangements"
   ]
  },
  {
   "cell_type": "code",
   "execution_count": 22,
   "metadata": {},
   "outputs": [
    {
     "name": "stdout",
     "output_type": "stream",
     "text": [
      "The number D_6 is 265\n"
     ]
    }
   ],
   "source": [
    "number_of_elements = 6\n",
    "number_of_derangements = calculate_derangements(number_of_elements)\n",
    "print(f'The number D_{number_of_elements} is {number_of_derangements}')\n"
   ]
  },
  {
   "cell_type": "code",
   "execution_count": null,
   "metadata": {},
   "outputs": [],
   "source": []
  },
  {
   "cell_type": "markdown",
   "metadata": {},
   "source": [
    "# Plot functions\n",
    "\n",
    "$$\n",
    "f : \\mathbb{N} \\to \\mathbb{N} \\text{ given by } f(x) = x + 1\n",
    "$$\n",
    "\n",
    "$$\n",
    "f : \\mathbb{Z} \\to \\mathbb{N} \\text{ given by } f(x) =\n",
    "\\begin{cases} \n",
    "2x & \\text{if } x \\geq 0 \\\\\n",
    "-2x - 1 & \\text{if } x < 0\n",
    "\\end{cases}\n",
    "$$"
   ]
  },
  {
   "cell_type": "markdown",
   "metadata": {},
   "source": [
    "Husk selv at tage højde for domain og codomain, da der ikke tages højde for dette. I eksemplet nedenunder er f1's domain og codomain naturlige tal. Mens f2 domain er alle heltal, og codomain er naturlige tal. \n",
    "\n",
    "#TODO "
   ]
  },
  {
   "cell_type": "code",
   "execution_count": 24,
   "metadata": {},
   "outputs": [
    {
     "data": {
      "image/png": "[encoded data removed]",
      "text/plain": [
       "<Figure size 640x480 with 1 Axes>"
      ]
     },
     "metadata": {},
     "output_type": "display_data"
    }
   ],
   "source": [
    "\n",
    "def f1(x):\n",
    "    return x+1\n",
    "def f2(x):\n",
    "    if x >= 0:\n",
    "        return 2*x\n",
    "    if x<0:\n",
    "        return -2*x-1\n",
    "\n",
    "plot_function([f1,f2,], [-100, 100])"
   ]
  }
 ],
 "metadata": {
  "kernelspec": {
   "display_name": "venv",
   "language": "python",
   "name": "python3"
  },
  "language_info": {
   "codemirror_mode": {
    "name": "ipython",
    "version": 3
   },
   "file_extension": ".py",
   "mimetype": "text/x-python",
   "name": "python",
   "nbconvert_exporter": "python",
   "pygments_lexer": "ipython3",
   "version": "3.13.0"
  }
 },
 "nbformat": 4,
 "nbformat_minor": 2
}
